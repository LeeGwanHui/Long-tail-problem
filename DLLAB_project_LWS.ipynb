{
 "cells": [
  {
   "cell_type": "markdown",
   "id": "be564ffe-7c6a-4983-a927-c53f79fe530b",
   "metadata": {
    "id": "be564ffe-7c6a-4983-a927-c53f79fe530b"
   },
   "source": [
    "> ### EEE4423: Deep Learning Lab\n",
    "\n",
    "# Final Project: Long-tail Visual Recognition for Image Classification"
   ]
  },
  {
   "cell_type": "markdown",
   "id": "449d8d4f-d166-4203-9223-f5b675b2ebd8",
   "metadata": {
    "id": "449d8d4f-d166-4203-9223-f5b675b2ebd8"
   },
   "source": [
    "<h4><div style=\"text-align: right\"> Due date: June 24, 2022.  </div> <br>\n",
    "<div style=\"text-align: right\"> Please upload your file @ LearnUs and submit via e-mail by 2 PM in the form of [ID_Name_project.ipynb]. </div></h4>"
   ]
  },
  {
   "cell_type": "code",
   "execution_count": 1,
   "id": "SX1KobwyfI1H",
   "metadata": {
    "colab": {
     "base_uri": "https://localhost:8080/"
    },
    "executionInfo": {
     "elapsed": 20356,
     "status": "ok",
     "timestamp": 1655871283887,
     "user": {
      "displayName": "Lee gwan hui",
      "userId": "09079206913426271362"
     },
     "user_tz": -540
    },
    "id": "SX1KobwyfI1H",
    "outputId": "f7beb185-3f85-468e-bb21-5784d6fcc0c4"
   },
   "outputs": [],
   "source": [
    "# from google.colab import drive\n",
    "# drive.mount('/content/drive')"
   ]
  },
  {
   "cell_type": "code",
   "execution_count": 2,
   "id": "YVEpOtNzfc6E",
   "metadata": {
    "colab": {
     "base_uri": "https://localhost:8080/"
    },
    "executionInfo": {
     "elapsed": 3,
     "status": "ok",
     "timestamp": 1655871285686,
     "user": {
      "displayName": "Lee gwan hui",
      "userId": "09079206913426271362"
     },
     "user_tz": -540
    },
    "id": "YVEpOtNzfc6E",
    "outputId": "f094ddca-c55c-4537-eb40-4ed6afe3f8c1"
   },
   "outputs": [],
   "source": [
    "# %cd /content/drive/MyDrive/딥러닝 실험/project"
   ]
  },
  {
   "cell_type": "code",
   "execution_count": 3,
   "id": "a0d7d3b2-32a4-4808-9476-edc89d829705",
   "metadata": {
    "id": "a0d7d3b2-32a4-4808-9476-edc89d829705"
   },
   "outputs": [],
   "source": [
    "import os\n",
    "import os.path as osp\n",
    "import numpy as np\n",
    "import torch\n",
    "import torch.nn as nn\n",
    "import torch.nn.functional as F\n",
    "import torchvision\n",
    "import torchvision.transforms as transforms\n",
    "\n",
    "from misc.project.utils import resnet18, IMBALANCECIFAR10, IMBALANCECIFAR100, compute_accuracy\n",
    "from torch.nn.parameter import Parameter\n",
    "\n",
    "import warnings\n",
    "warnings.filterwarnings(\"ignore\", category=UserWarning) ## 경고 무시\n",
    "\n",
    "os.environ['CUDA_VISIBLE_DEVICES'] = '0'"
   ]
  },
  {
   "cell_type": "code",
   "execution_count": 5,
   "id": "03866650-32bc-4868-bcd7-eca0888adda5",
   "metadata": {
    "colab": {
     "base_uri": "https://localhost:8080/"
    },
    "executionInfo": {
     "elapsed": 3,
     "status": "ok",
     "timestamp": 1655871397945,
     "user": {
      "displayName": "Lee gwan hui",
      "userId": "09079206913426271362"
     },
     "user_tz": -540
    },
    "id": "03866650-32bc-4868-bcd7-eca0888adda5",
    "outputId": "ac16785a-cbf4-4694-f51c-c908fdc7128d"
   },
   "outputs": [
    {
     "name": "stdout",
     "output_type": "stream",
     "text": [
      "STEP 6: INSTANTIATE OPTIMIZER CLASS\n"
     ]
    }
   ],
   "source": [
    "print('STEP 6: INSTANTIATE OPTIMIZER CLASS')\n",
    "\n",
    "DATASET = 'CIFAR100' #['CIFAR10', 'CIFAR100']\n",
    "IMB_TYPE = 'exp' #['exp', 'step'] # 질문\n",
    "IMB_FACTOR = 0.1 #[0.1, 0.01]\n",
    "SAVE_DIR = 'logs/LWS/CIFAR10/exp-0.1' \n",
    "\n",
    "LR = 0.1\n",
    "BATCH_SIZE = 128 \n",
    "MOMENTUM = 0.9\n",
    "WEIGHT_DECAY = 2e-4\n",
    "EPOCHS = 100"
   ]
  },
  {
   "cell_type": "code",
   "execution_count": 6,
   "id": "ebfa934f-3869-4519-86e1-abd9173b62e2",
   "metadata": {
    "id": "ebfa934f-3869-4519-86e1-abd9173b62e2"
   },
   "outputs": [],
   "source": [
    "os.makedirs(osp.join(SAVE_DIR), exist_ok=True)"
   ]
  },
  {
   "cell_type": "code",
   "execution_count": 7,
   "id": "665d1d9f-ea6a-4d00-bd1e-e42d28565546",
   "metadata": {
    "colab": {
     "base_uri": "https://localhost:8080/"
    },
    "executionInfo": {
     "elapsed": 2442,
     "status": "ok",
     "timestamp": 1655871400954,
     "user": {
      "displayName": "Lee gwan hui",
      "userId": "09079206913426271362"
     },
     "user_tz": -540
    },
    "id": "665d1d9f-ea6a-4d00-bd1e-e42d28565546",
    "outputId": "b6c89d66-3db6-42ed-de7b-278a07a3a0e7"
   },
   "outputs": [
    {
     "name": "stdout",
     "output_type": "stream",
     "text": [
      "STEP 1: LOADING DATASET\n",
      "Files already downloaded and verified\n",
      "Files already downloaded and verified\n",
      "cls num list:\n",
      "[500, 488, 477, 466, 455, 445, 434, 424, 415, 405, 396, 387, 378, 369, 361, 352, 344, 336, 328, 321, 314, 306, 299, 292, 286, 279, 273, 266, 260, 254, 248, 243, 237, 232, 226, 221, 216, 211, 206, 201, 197, 192, 188, 183, 179, 175, 171, 167, 163, 159, 156, 152, 149, 145, 142, 139, 135, 132, 129, 126, 123, 121, 118, 115, 112, 110, 107, 105, 102, 100, 98, 95, 93, 91, 89, 87, 85, 83, 81, 79, 77, 75, 74, 72, 70, 69, 67, 66, 64, 63, 61, 60, 58, 57, 56, 54, 53, 52, 51, 50]\n",
      "100\n"
     ]
    }
   ],
   "source": [
    "print('STEP 1: LOADING DATASET')\n",
    "\n",
    "transform_train = transforms.Compose([\n",
    "    transforms.RandomCrop(32, padding=4),\n",
    "    transforms.RandomHorizontalFlip(),\n",
    "    transforms.ToTensor(),\n",
    "    transforms.Normalize((0.4914, 0.4822, 0.4465), (0.2023, 0.1994, 0.2010)),\n",
    "])\n",
    "\n",
    "transform_test = transforms.Compose([\n",
    "    transforms.ToTensor(),\n",
    "    transforms.Normalize((0.4914, 0.4822, 0.4465), (0.2023, 0.1994, 0.2010)),\n",
    "])\n",
    "\n",
    "if DATASET == 'CIFAR10':\n",
    "    train_dataset_0 = IMBALANCECIFAR10(root='../dataset/project', imb_type=IMB_TYPE, imb_factor=IMB_FACTOR, train=True, download=True, transform=transform_train)\n",
    "    test_dataset = torchvision.datasets.CIFAR10(root='../dataset/project', train=False, download=True, transform=transform_test)\n",
    "elif DATASET == 'CIFAR100':\n",
    "    train_dataset_0 = IMBALANCECIFAR100(root='../dataset/project', imb_type=IMB_TYPE, imb_factor=IMB_FACTOR, train=True, download=True, transform=transform_train)\n",
    "    test_dataset = torchvision.datasets.CIFAR100(root='../dataset/project', train=False, download=True, transform=transform_test)\n",
    "\n",
    "cls_num_list = train_dataset_0.get_cls_num_list() # 각 class에 몇개가 들어있는지 나타냄 \n",
    "print('cls num list:')\n",
    "print(cls_num_list)\n",
    "num_classes = len(cls_num_list)\n",
    "print(num_classes)"
   ]
  },
  {
   "cell_type": "code",
   "execution_count": 8,
   "id": "xZ6vEwEsrQ7C",
   "metadata": {
    "colab": {
     "base_uri": "https://localhost:8080/"
    },
    "executionInfo": {
     "elapsed": 4,
     "status": "ok",
     "timestamp": 1655871400954,
     "user": {
      "displayName": "Lee gwan hui",
      "userId": "09079206913426271362"
     },
     "user_tz": -540
    },
    "id": "xZ6vEwEsrQ7C",
    "outputId": "f94a06f8-ec67-4f7a-d07f-bc0ae94e1d0c"
   },
   "outputs": [
    {
     "name": "stdout",
     "output_type": "stream",
     "text": [
      "19573\n",
      "17616\n",
      "1957\n",
      "0\n"
     ]
    }
   ],
   "source": [
    "from torch.utils.data import Dataset, DataLoader, random_split\n",
    "torch.manual_seed(torch.initial_seed())\n",
    "generator = torch.Generator()\n",
    "generator.manual_seed(0)\n",
    "dataset_size = len(train_dataset_0)\n",
    "validation_size = int(dataset_size * 0.1) if not int(dataset_size * 0.1)==0 else 1 \n",
    "train_size = dataset_size - validation_size\n",
    "test_size = 0\n",
    "\n",
    "train_dataset, validation_dataset, test_dataset_0 = random_split(train_dataset_0, [train_size, validation_size, test_size],generator=generator)\n",
    "\n",
    "print(len(train_dataset_0))\n",
    "print(len(train_dataset))\n",
    "print(len(validation_dataset))\n",
    "print(len(test_dataset_0))"
   ]
  },
  {
   "cell_type": "code",
   "execution_count": 9,
   "id": "5ca6d70a-b8d0-41cd-87d6-524874276249",
   "metadata": {
    "colab": {
     "base_uri": "https://localhost:8080/"
    },
    "executionInfo": {
     "elapsed": 3,
     "status": "ok",
     "timestamp": 1655871400954,
     "user": {
      "displayName": "Lee gwan hui",
      "userId": "09079206913426271362"
     },
     "user_tz": -540
    },
    "id": "5ca6d70a-b8d0-41cd-87d6-524874276249",
    "outputId": "92ed1625-2586-4ef3-ba42-42783de8a421"
   },
   "outputs": [
    {
     "name": "stdout",
     "output_type": "stream",
     "text": [
      "STEP 2: MAKING DATASET ITERABLE\n"
     ]
    }
   ],
   "source": [
    "print('STEP 2: MAKING DATASET ITERABLE')\n",
    "train_loader = torch.utils.data.DataLoader(\n",
    "    train_dataset, batch_size=BATCH_SIZE, shuffle=True,\n",
    "    num_workers=4, drop_last=False)\n",
    "\n",
    "val_loader = torch.utils.data.DataLoader(\n",
    "    validation_dataset, batch_size=BATCH_SIZE, shuffle=True,\n",
    "    num_workers=4, drop_last=False)\n",
    "\n",
    "test_loader = torch.utils.data.DataLoader(\n",
    "    test_dataset, batch_size=100, shuffle=False,\n",
    "    num_workers=4, )"
   ]
  },
  {
   "cell_type": "code",
   "execution_count": 10,
   "id": "f1a22399-4ce8-4320-ab5c-813fdfa045d6",
   "metadata": {
    "colab": {
     "base_uri": "https://localhost:8080/"
    },
    "executionInfo": {
     "elapsed": 3,
     "status": "ok",
     "timestamp": 1655871400955,
     "user": {
      "displayName": "Lee gwan hui",
      "userId": "09079206913426271362"
     },
     "user_tz": -540
    },
    "id": "f1a22399-4ce8-4320-ab5c-813fdfa045d6",
    "outputId": "8bf49553-0dd9-4f40-eebf-a06f3eb92664"
   },
   "outputs": [
    {
     "name": "stdout",
     "output_type": "stream",
     "text": [
      "STEP 3: CREATE MODEL CLASS (VGG16)\n"
     ]
    }
   ],
   "source": [
    "print('STEP 3: CREATE MODEL CLASS (VGG16)')\n",
    "\n",
    "class ResNet18(nn.Module):\n",
    "    def __init__(self, num_classes):\n",
    "        super(ResNet18, self).__init__()\n",
    "        self.backbone = resnet18()\n",
    "        self.classifier = nn.Linear(512, num_classes)\n",
    "        self.scales = Parameter(torch.ones(num_classes))\n",
    "    \n",
    "    def forward(self, x):\n",
    "        batch_size = x.shape[0]\n",
    "        x = self.backbone(x)\n",
    "        x = F.adaptive_max_pool2d(x, 1)\n",
    "        x = x.view(batch_size, -1)\n",
    "        pred = self.classifier(x)\n",
    "        # LWS 구현\n",
    "        pred *= self.scales\n",
    "#         print(pred.size()) # torch.Size([128, 10])\n",
    "        return pred"
   ]
  },
  {
   "cell_type": "code",
   "execution_count": 11,
   "id": "afdb726e-f03a-4032-904f-deb21613086a",
   "metadata": {
    "colab": {
     "base_uri": "https://localhost:8080/"
    },
    "executionInfo": {
     "elapsed": 1,
     "status": "ok",
     "timestamp": 1655871401325,
     "user": {
      "displayName": "Lee gwan hui",
      "userId": "09079206913426271362"
     },
     "user_tz": -540
    },
    "id": "afdb726e-f03a-4032-904f-deb21613086a",
    "outputId": "b407cfab-1eb1-4e1a-a628-65d6b16d947b"
   },
   "outputs": [
    {
     "name": "stdout",
     "output_type": "stream",
     "text": [
      "STEP 4: INSTANTIATE MODEL CLASS\n",
      "STEP 5: INSTANTIATE LOSS CLASS\n"
     ]
    }
   ],
   "source": [
    "print('STEP 4: INSTANTIATE MODEL CLASS')\n",
    "\n",
    "model = ResNet18(num_classes)\n",
    "model = model.cuda()\n",
    "\n",
    "print('STEP 5: INSTANTIATE LOSS CLASS')\n",
    "criterion = nn.CrossEntropyLoss()\n",
    "optimizer = torch.optim.SGD(model.parameters(), lr=LR, momentum=MOMENTUM, weight_decay=WEIGHT_DECAY)\n",
    "scheduler = torch.optim.lr_scheduler.StepLR(optimizer, step_size=150, gamma=0.1)"
   ]
  },
  {
   "cell_type": "code",
   "execution_count": 12,
   "id": "cc43023b",
   "metadata": {
    "id": "cc43023b"
   },
   "outputs": [],
   "source": [
    "torch.cuda.empty_cache()"
   ]
  },
  {
   "cell_type": "code",
   "execution_count": 36,
   "id": "ea710170-226d-4093-84e0-cacbee35ed81",
   "metadata": {
    "colab": {
     "base_uri": "https://localhost:8080/"
    },
    "executionInfo": {
     "elapsed": 1026208,
     "status": "ok",
     "timestamp": 1655866263345,
     "user": {
      "displayName": "Lee gwan hui",
      "userId": "09079206913426271362"
     },
     "user_tz": -540
    },
    "id": "ea710170-226d-4093-84e0-cacbee35ed81",
    "outputId": "18c45ae9-8830-4422-d9ec-f4cb507b39b2"
   },
   "outputs": [
    {
     "name": "stdout",
     "output_type": "stream",
     "text": [
      "Epoch: [001] \t Loss 3.6755 \t Acc 47.02 \t AccHead 50.56 \t AccTail 0.00\n",
      "Epoch: [002] \t Loss 1.5171 \t Acc 44.52 \t AccHead 47.88 \t AccTail 0.00\n",
      "Epoch: [003] \t Loss 1.3501 \t Acc 58.31 \t AccHead 62.71 \t AccTail 0.00\n",
      "Epoch: [004] \t Loss 1.2167 \t Acc 57.26 \t AccHead 61.58 \t AccTail 0.00\n",
      "Epoch: [005] \t Loss 1.1790 \t Acc 59.84 \t AccHead 64.35 \t AccTail 0.00\n",
      "Epoch: [006] \t Loss 1.1295 \t Acc 57.02 \t AccHead 61.32 \t AccTail 0.00\n",
      "Epoch: [007] \t Loss 1.0945 \t Acc 62.18 \t AccHead 66.87 \t AccTail 0.00\n",
      "Epoch: [008] \t Loss 1.0665 \t Acc 61.85 \t AccHead 66.52 \t AccTail 0.00\n",
      "Epoch: [009] \t Loss 1.0522 \t Acc 64.76 \t AccHead 69.64 \t AccTail 0.00\n",
      "Epoch: [010] \t Loss 1.0113 \t Acc 64.92 \t AccHead 69.82 \t AccTail 0.00\n",
      "Epoch: [011] \t Loss 0.9789 \t Acc 65.08 \t AccHead 69.99 \t AccTail 0.00\n",
      "Epoch: [012] \t Loss 0.9511 \t Acc 64.92 \t AccHead 69.82 \t AccTail 0.00\n",
      "Epoch: [013] \t Loss 0.9481 \t Acc 67.74 \t AccHead 72.85 \t AccTail 0.00\n",
      "Epoch: [014] \t Loss 0.9192 \t Acc 67.02 \t AccHead 72.07 \t AccTail 0.00\n",
      "Epoch: [015] \t Loss 0.8982 \t Acc 68.31 \t AccHead 73.46 \t AccTail 0.00\n",
      "Epoch: [016] \t Loss 0.8900 \t Acc 68.23 \t AccHead 73.37 \t AccTail 0.00\n",
      "Epoch: [017] \t Loss 0.8591 \t Acc 69.84 \t AccHead 74.67 \t AccTail 5.75\n",
      "Epoch: [018] \t Loss 0.8453 \t Acc 70.32 \t AccHead 75.37 \t AccTail 3.45\n",
      "Epoch: [019] \t Loss 0.8258 \t Acc 69.03 \t AccHead 72.42 \t AccTail 24.14\n",
      "Epoch: [020] \t Loss 0.8329 \t Acc 66.94 \t AccHead 70.25 \t AccTail 22.99\n",
      "Epoch: [021] \t Loss 0.8350 \t Acc 71.61 \t AccHead 76.76 \t AccTail 3.45\n",
      "Epoch: [022] \t Loss 0.7926 \t Acc 71.85 \t AccHead 76.06 \t AccTail 16.09\n",
      "Epoch: [023] \t Loss 0.7629 \t Acc 71.85 \t AccHead 76.32 \t AccTail 12.64\n",
      "Epoch: [024] \t Loss 0.7463 \t Acc 72.26 \t AccHead 77.28 \t AccTail 5.75\n",
      "Epoch: [025] \t Loss 0.7460 \t Acc 72.34 \t AccHead 76.50 \t AccTail 17.24\n",
      "Epoch: [026] \t Loss 0.7189 \t Acc 72.74 \t AccHead 76.84 \t AccTail 18.39\n",
      "Epoch: [027] \t Loss 0.7022 \t Acc 71.85 \t AccHead 75.80 \t AccTail 19.54\n",
      "Epoch: [028] \t Loss 0.6900 \t Acc 73.71 \t AccHead 77.62 \t AccTail 21.84\n",
      "Epoch: [029] \t Loss 0.6747 \t Acc 73.39 \t AccHead 77.71 \t AccTail 16.09\n",
      "Epoch: [030] \t Loss 0.6771 \t Acc 74.60 \t AccHead 78.49 \t AccTail 22.99\n",
      "Epoch: [031] \t Loss 0.6616 \t Acc 75.32 \t AccHead 79.97 \t AccTail 13.79\n",
      "Epoch: [032] \t Loss 0.6581 \t Acc 73.31 \t AccHead 77.28 \t AccTail 20.69\n",
      "Epoch: [033] \t Loss 0.6443 \t Acc 75.08 \t AccHead 79.10 \t AccTail 21.84\n",
      "Epoch: [034] \t Loss 0.6326 \t Acc 76.69 \t AccHead 80.92 \t AccTail 20.69\n",
      "Epoch: [035] \t Loss 0.6262 \t Acc 75.08 \t AccHead 79.97 \t AccTail 10.34\n",
      "Epoch: [036] \t Loss 0.6215 \t Acc 75.81 \t AccHead 78.40 \t AccTail 41.38\n",
      "Epoch: [037] \t Loss 0.6073 \t Acc 75.24 \t AccHead 78.66 \t AccTail 29.89\n",
      "Epoch: [038] \t Loss 0.5943 \t Acc 75.32 \t AccHead 79.18 \t AccTail 24.14\n",
      "Epoch: [039] \t Loss 0.5903 \t Acc 76.05 \t AccHead 79.27 \t AccTail 33.33\n",
      "Epoch: [040] \t Loss 0.5715 \t Acc 76.61 \t AccHead 80.40 \t AccTail 26.44\n",
      "Epoch: [041] \t Loss 0.5803 \t Acc 76.94 \t AccHead 81.09 \t AccTail 21.84\n",
      "Epoch: [042] \t Loss 0.5454 \t Acc 76.05 \t AccHead 79.97 \t AccTail 24.14\n",
      "Epoch: [043] \t Loss 0.5380 \t Acc 76.85 \t AccHead 80.49 \t AccTail 28.74\n",
      "Epoch: [044] \t Loss 0.5336 \t Acc 78.95 \t AccHead 82.48 \t AccTail 32.18\n",
      "Epoch: [045] \t Loss 0.5217 \t Acc 76.85 \t AccHead 80.31 \t AccTail 31.03\n",
      "Epoch: [046] \t Loss 0.5259 \t Acc 78.23 \t AccHead 82.74 \t AccTail 18.39\n",
      "Epoch: [047] \t Loss 0.5041 \t Acc 77.90 \t AccHead 81.96 \t AccTail 24.14\n",
      "Epoch: [048] \t Loss 0.5036 \t Acc 77.42 \t AccHead 81.79 \t AccTail 19.54\n",
      "Epoch: [049] \t Loss 0.4955 \t Acc 76.69 \t AccHead 79.97 \t AccTail 33.33\n",
      "Epoch: [050] \t Loss 0.4995 \t Acc 73.31 \t AccHead 77.88 \t AccTail 12.64\n",
      "Epoch: [051] \t Loss 0.4755 \t Acc 77.58 \t AccHead 81.96 \t AccTail 19.54\n",
      "Epoch: [052] \t Loss 0.4744 \t Acc 78.55 \t AccHead 83.26 \t AccTail 16.09\n",
      "Epoch: [053] \t Loss 0.4814 \t Acc 75.40 \t AccHead 78.75 \t AccTail 31.03\n",
      "Epoch: [054] \t Loss 0.4809 \t Acc 78.31 \t AccHead 81.27 \t AccTail 39.08\n",
      "Epoch: [055] \t Loss 0.4609 \t Acc 76.05 \t AccHead 79.18 \t AccTail 34.48\n",
      "Epoch: [056] \t Loss 0.4518 \t Acc 79.27 \t AccHead 82.91 \t AccTail 31.03\n",
      "Epoch: [057] \t Loss 0.4430 \t Acc 77.10 \t AccHead 81.44 \t AccTail 19.54\n",
      "Epoch: [058] \t Loss 0.4492 \t Acc 74.92 \t AccHead 77.97 \t AccTail 34.48\n",
      "Epoch: [059] \t Loss 0.4296 \t Acc 78.39 \t AccHead 81.61 \t AccTail 35.63\n",
      "Epoch: [060] \t Loss 0.4348 \t Acc 79.84 \t AccHead 83.17 \t AccTail 35.63\n",
      "Epoch: [061] \t Loss 0.4249 \t Acc 78.39 \t AccHead 82.13 \t AccTail 28.74\n",
      "Epoch: [062] \t Loss 0.4078 \t Acc 77.42 \t AccHead 80.83 \t AccTail 32.18\n",
      "Epoch: [063] \t Loss 0.4119 \t Acc 77.26 \t AccHead 80.49 \t AccTail 34.48\n",
      "Epoch: [064] \t Loss 0.4049 \t Acc 76.21 \t AccHead 80.31 \t AccTail 21.84\n",
      "Epoch: [065] \t Loss 0.4078 \t Acc 78.95 \t AccHead 81.79 \t AccTail 41.38\n",
      "Epoch: [066] \t Loss 0.3847 \t Acc 77.18 \t AccHead 80.40 \t AccTail 34.48\n",
      "Epoch: [067] \t Loss 0.4068 \t Acc 76.85 \t AccHead 80.40 \t AccTail 29.89\n",
      "Epoch: [068] \t Loss 0.3938 \t Acc 78.39 \t AccHead 82.22 \t AccTail 27.59\n",
      "Epoch: [069] \t Loss 0.4059 \t Acc 77.82 \t AccHead 81.35 \t AccTail 31.03\n",
      "Epoch: [070] \t Loss 0.3937 \t Acc 77.18 \t AccHead 81.18 \t AccTail 24.14\n",
      "Epoch: [071] \t Loss 0.3862 \t Acc 78.63 \t AccHead 82.31 \t AccTail 29.89\n",
      "Epoch: [072] \t Loss 0.3736 \t Acc 79.76 \t AccHead 82.22 \t AccTail 47.13\n",
      "Epoch: [073] \t Loss 0.3670 \t Acc 78.31 \t AccHead 81.27 \t AccTail 39.08\n",
      "Epoch: [074] \t Loss 0.3585 \t Acc 78.39 \t AccHead 81.35 \t AccTail 39.08\n",
      "Epoch: [075] \t Loss 0.3516 \t Acc 79.03 \t AccHead 81.35 \t AccTail 48.28\n",
      "Epoch: [076] \t Loss 0.3450 \t Acc 78.55 \t AccHead 82.05 \t AccTail 32.18\n",
      "Epoch: [077] \t Loss 0.3446 \t Acc 78.15 \t AccHead 81.01 \t AccTail 40.23\n",
      "Epoch: [078] \t Loss 0.3352 \t Acc 78.71 \t AccHead 82.57 \t AccTail 27.59\n",
      "Epoch: [079] \t Loss 0.3393 \t Acc 79.76 \t AccHead 83.52 \t AccTail 29.89\n",
      "Epoch: [080] \t Loss 0.3479 \t Acc 80.40 \t AccHead 84.13 \t AccTail 31.03\n",
      "Epoch: [081] \t Loss 0.3171 \t Acc 80.81 \t AccHead 84.22 \t AccTail 35.63\n",
      "Epoch: [082] \t Loss 0.3414 \t Acc 79.11 \t AccHead 82.31 \t AccTail 36.78\n",
      "Epoch: [083] \t Loss 0.3224 \t Acc 78.06 \t AccHead 81.01 \t AccTail 39.08\n",
      "Epoch: [084] \t Loss 0.3271 \t Acc 77.66 \t AccHead 80.66 \t AccTail 37.93\n",
      "Epoch: [085] \t Loss 0.3301 \t Acc 78.95 \t AccHead 82.39 \t AccTail 33.33\n",
      "Epoch: [086] \t Loss 0.3259 \t Acc 78.55 \t AccHead 82.22 \t AccTail 29.89\n",
      "Epoch: [087] \t Loss 0.3182 \t Acc 78.06 \t AccHead 81.87 \t AccTail 27.59\n",
      "Epoch: [088] \t Loss 0.3091 \t Acc 76.69 \t AccHead 80.23 \t AccTail 29.89\n",
      "Epoch: [089] \t Loss 0.3309 \t Acc 79.35 \t AccHead 82.91 \t AccTail 32.18\n",
      "Epoch: [090] \t Loss 0.2947 \t Acc 80.48 \t AccHead 83.78 \t AccTail 36.78\n",
      "Epoch: [091] \t Loss 0.2938 \t Acc 77.82 \t AccHead 81.70 \t AccTail 26.44\n",
      "Epoch: [092] \t Loss 0.2919 \t Acc 78.63 \t AccHead 82.48 \t AccTail 27.59\n",
      "Epoch: [093] \t Loss 0.3043 \t Acc 78.95 \t AccHead 82.31 \t AccTail 34.48\n",
      "Epoch: [094] \t Loss 0.2807 \t Acc 79.11 \t AccHead 82.39 \t AccTail 35.63\n",
      "Epoch: [095] \t Loss 0.2826 \t Acc 79.84 \t AccHead 82.48 \t AccTail 44.83\n",
      "Epoch: [096] \t Loss 0.2795 \t Acc 79.11 \t AccHead 81.18 \t AccTail 51.72\n",
      "Epoch: [097] \t Loss 0.2731 \t Acc 79.60 \t AccHead 83.78 \t AccTail 24.14\n",
      "Epoch: [098] \t Loss 0.2828 \t Acc 79.68 \t AccHead 83.00 \t AccTail 35.63\n",
      "Epoch: [099] \t Loss 0.2793 \t Acc 81.69 \t AccHead 84.91 \t AccTail 39.08\n",
      "Epoch: [100] \t Loss 0.2820 \t Acc 79.84 \t AccHead 83.43 \t AccTail 32.18\n"
     ]
    }
   ],
   "source": [
    "for epoch in range(EPOCHS):\n",
    "    \n",
    "    loss_history = []\n",
    "    model.train()\n",
    "    for batch_index, data in enumerate(train_loader):\n",
    "        image, target = data\n",
    "        image, target = image.cuda(), target.cuda()\n",
    "\n",
    "        pred = model(image)\n",
    "        loss = criterion(pred, target)\n",
    "\n",
    "        optimizer.zero_grad()\n",
    "        loss.backward()\n",
    "        optimizer.step()\n",
    "\n",
    "        loss_history.append(loss.item())\n",
    "\n",
    "    topk_acc, head_acc, tail_acc = compute_accuracy(val_loader, model)\n",
    "    loss_mean = np.mean(loss_history)\n",
    "    scheduler.step()\n",
    "\n",
    "    print('Epoch: [{:03d}] \\t Loss {:.4f} \\t Acc {:.2f} \\t AccHead {:.2f} \\t AccTail {:.2f}'.format(epoch+1, loss_mean, topk_acc[0], head_acc[0], tail_acc[0]))\n"
   ]
  },
  {
   "cell_type": "code",
   "execution_count": 37,
   "id": "BBwF5gWDriZk",
   "metadata": {
    "id": "BBwF5gWDriZk"
   },
   "outputs": [],
   "source": [
    "torch.save({\n",
    "    'model': model.state_dict(),\n",
    "    'optimizer': optimizer.state_dict(),\n",
    "    'epoch': epoch},\n",
    "    osp.join(SAVE_DIR, 'ep{:03d}.pth'.format(epoch+1))\n",
    ")"
   ]
  },
  {
   "cell_type": "code",
   "execution_count": 13,
   "id": "2024958b",
   "metadata": {},
   "outputs": [
    {
     "name": "stdout",
     "output_type": "stream",
     "text": [
      "Acc 71.20 \t AccHead 77.56 \t AccTail 64.84\n"
     ]
    }
   ],
   "source": [
    "## \n",
    "SAVE_DIR = 'logs/LWS/CIFAR10/exp-0.1' \n",
    "num_classes = 10\n",
    "model = ResNet18(num_classes)\n",
    "model.load_state_dict(torch.load(\n",
    "    osp.join(SAVE_DIR, 'ep100.pth')\n",
    ")['model'])\n",
    "model = model.cuda()\n",
    "topk_acc, head_acc, tail_acc = compute_accuracy(test_loader, model)\n",
    "\n",
    "print('Acc {:.2f} \\t AccHead {:.2f} \\t AccTail {:.2f}'.format(topk_acc[0], head_acc[0], tail_acc[0]))"
   ]
  },
  {
   "cell_type": "code",
   "execution_count": 14,
   "id": "qcqBnOQxw5PN",
   "metadata": {
    "colab": {
     "base_uri": "https://localhost:8080/"
    },
    "executionInfo": {
     "elapsed": 2976,
     "status": "ok",
     "timestamp": 1655871384593,
     "user": {
      "displayName": "Lee gwan hui",
      "userId": "09079206913426271362"
     },
     "user_tz": -540
    },
    "id": "qcqBnOQxw5PN",
    "outputId": "3abf5254-8828-42ad-863c-cf01e3d4542f"
   },
   "outputs": [
    {
     "name": "stdout",
     "output_type": "stream",
     "text": [
      "Acc 51.28 \t AccHead 74.60 \t AccTail 27.96\n"
     ]
    }
   ],
   "source": [
    "## \n",
    "SAVE_DIR = 'logs/LWS/CIFAR10/exp-0.01' \n",
    "num_classes = 10\n",
    "model = ResNet18(num_classes)\n",
    "model.load_state_dict(torch.load(\n",
    "    osp.join(SAVE_DIR, 'ep100.pth')\n",
    ")['model'])\n",
    "model = model.cuda()\n",
    "topk_acc, head_acc, tail_acc = compute_accuracy(test_loader, model)\n",
    "\n",
    "print('Acc {:.2f} \\t AccHead {:.2f} \\t AccTail {:.2f}'.format(topk_acc[0], head_acc[0], tail_acc[0]))"
   ]
  },
  {
   "cell_type": "code",
   "execution_count": 15,
   "id": "IPsVgOJjzjf2",
   "metadata": {
    "colab": {
     "base_uri": "https://localhost:8080/"
    },
    "executionInfo": {
     "elapsed": 2752,
     "status": "ok",
     "timestamp": 1655871387339,
     "user": {
      "displayName": "Lee gwan hui",
      "userId": "09079206913426271362"
     },
     "user_tz": -540
    },
    "id": "IPsVgOJjzjf2",
    "outputId": "af21bcb3-d382-4eb1-fc53-9f3d5489ddbb"
   },
   "outputs": [
    {
     "name": "stdout",
     "output_type": "stream",
     "text": [
      "Acc 64.35 \t AccHead 82.28 \t AccTail 46.42\n"
     ]
    }
   ],
   "source": [
    "## \n",
    "SAVE_DIR = 'logs/LWS/CIFAR10/step-0.1' \n",
    "model = ResNet18(num_classes)\n",
    "model.load_state_dict(torch.load(\n",
    "    osp.join(SAVE_DIR, 'ep100.pth')\n",
    ")['model'])\n",
    "model = model.cuda()\n",
    "topk_acc, head_acc, tail_acc = compute_accuracy(test_loader, model)\n",
    "\n",
    "print('Acc {:.2f} \\t AccHead {:.2f} \\t AccTail {:.2f}'.format(topk_acc[0], head_acc[0], tail_acc[0]))"
   ]
  },
  {
   "cell_type": "code",
   "execution_count": 16,
   "id": "OvjIYNzY6ari",
   "metadata": {
    "colab": {
     "base_uri": "https://localhost:8080/"
    },
    "executionInfo": {
     "elapsed": 3609,
     "status": "ok",
     "timestamp": 1655871390944,
     "user": {
      "displayName": "Lee gwan hui",
      "userId": "09079206913426271362"
     },
     "user_tz": -540
    },
    "id": "OvjIYNzY6ari",
    "outputId": "c51925de-6ff6-4fce-ccb9-5955af327880"
   },
   "outputs": [
    {
     "name": "stdout",
     "output_type": "stream",
     "text": [
      "Acc 47.57 \t AccHead 88.52 \t AccTail 6.62\n"
     ]
    }
   ],
   "source": [
    "## \n",
    "SAVE_DIR = 'logs/LWS/CIFAR10/step-0.01' \n",
    "model = ResNet18(num_classes)\n",
    "model.load_state_dict(torch.load(\n",
    "    osp.join(SAVE_DIR, 'ep100.pth')\n",
    ")['model'])\n",
    "model = model.cuda()\n",
    "topk_acc, head_acc, tail_acc = compute_accuracy(test_loader, model)\n",
    "\n",
    "print('Acc {:.2f} \\t AccHead {:.2f} \\t AccTail {:.2f}'.format(topk_acc[0], head_acc[0], tail_acc[0]))"
   ]
  },
  {
   "cell_type": "markdown",
   "id": "6f007318",
   "metadata": {},
   "source": [
    "여기서 부터는 CIFAR100 이다."
   ]
  },
  {
   "cell_type": "code",
   "execution_count": 25,
   "id": "c2yWR-xZ_ynr",
   "metadata": {
    "colab": {
     "base_uri": "https://localhost:8080/"
    },
    "executionInfo": {
     "elapsed": 4076,
     "status": "ok",
     "timestamp": 1655871412017,
     "user": {
      "displayName": "Lee gwan hui",
      "userId": "09079206913426271362"
     },
     "user_tz": -540
    },
    "id": "c2yWR-xZ_ynr",
    "outputId": "d9102982-d583-432d-ec2d-c8bd89317ae2"
   },
   "outputs": [
    {
     "name": "stdout",
     "output_type": "stream",
     "text": [
      "Acc 35.45 \t AccHead 44.46 \t AccTail 26.44\n"
     ]
    }
   ],
   "source": [
    "## \n",
    "SAVE_DIR = 'logs/LWS/CIFAR100/exp-0.1' \n",
    "model = ResNet18(num_classes)\n",
    "model.load_state_dict(torch.load(\n",
    "    osp.join(SAVE_DIR, 'ep100.pth')\n",
    ")['model'])\n",
    "model = model.cuda()\n",
    "topk_acc, head_acc, tail_acc = compute_accuracy(test_loader, model)\n",
    "\n",
    "print('Acc {:.2f} \\t AccHead {:.2f} \\t AccTail {:.2f}'.format(topk_acc[0], head_acc[0], tail_acc[0]))"
   ]
  },
  {
   "cell_type": "code",
   "execution_count": 27,
   "id": "jTuB13qfId-U",
   "metadata": {
    "colab": {
     "base_uri": "https://localhost:8080/"
    },
    "executionInfo": {
     "elapsed": 4546,
     "status": "ok",
     "timestamp": 1655871416560,
     "user": {
      "displayName": "Lee gwan hui",
      "userId": "09079206913426271362"
     },
     "user_tz": -540
    },
    "id": "jTuB13qfId-U",
    "outputId": "98f7297c-f712-4ce6-9fb6-b1f73ddc9d95"
   },
   "outputs": [
    {
     "name": "stdout",
     "output_type": "stream",
     "text": [
      "Acc 23.52 \t AccHead 37.24 \t AccTail 9.80\n"
     ]
    }
   ],
   "source": [
    "## \n",
    "SAVE_DIR = 'logs/LWS/CIFAR100/exp-0.01' \n",
    "model = ResNet18(num_classes)\n",
    "model.load_state_dict(torch.load(\n",
    "    osp.join(SAVE_DIR, 'ep100.pth')\n",
    ")['model'])\n",
    "model = model.cuda()\n",
    "topk_acc, head_acc, tail_acc = compute_accuracy(test_loader, model)\n",
    "\n",
    "print('Acc {:.2f} \\t AccHead {:.2f} \\t AccTail {:.2f}'.format(topk_acc[0], head_acc[0], tail_acc[0]))"
   ]
  },
  {
   "cell_type": "code",
   "execution_count": 28,
   "id": "bpU8R0mAKyNw",
   "metadata": {
    "colab": {
     "base_uri": "https://localhost:8080/"
    },
    "executionInfo": {
     "elapsed": 4743,
     "status": "ok",
     "timestamp": 1655871421294,
     "user": {
      "displayName": "Lee gwan hui",
      "userId": "09079206913426271362"
     },
     "user_tz": -540
    },
    "id": "bpU8R0mAKyNw",
    "outputId": "3637ce59-91d1-4638-948b-6f572ae3719f"
   },
   "outputs": [
    {
     "name": "stdout",
     "output_type": "stream",
     "text": [
      "Acc 33.40 \t AccHead 50.70 \t AccTail 16.10\n"
     ]
    }
   ],
   "source": [
    "## \n",
    "SAVE_DIR = 'logs/LWS/CIFAR100/step-0.1' \n",
    "model = ResNet18(num_classes)\n",
    "model.load_state_dict(torch.load(\n",
    "    osp.join(SAVE_DIR, 'ep100.pth')\n",
    ")['model'])\n",
    "model = model.cuda()\n",
    "topk_acc, head_acc, tail_acc = compute_accuracy(test_loader, model)\n",
    "\n",
    "print('Acc {:.2f} \\t AccHead {:.2f} \\t AccTail {:.2f}'.format(topk_acc[0], head_acc[0], tail_acc[0]))"
   ]
  },
  {
   "cell_type": "code",
   "execution_count": 29,
   "id": "9GOAYw5EQhMA",
   "metadata": {
    "colab": {
     "base_uri": "https://localhost:8080/"
    },
    "executionInfo": {
     "elapsed": 4823,
     "status": "ok",
     "timestamp": 1655871426111,
     "user": {
      "displayName": "Lee gwan hui",
      "userId": "09079206913426271362"
     },
     "user_tz": -540
    },
    "id": "9GOAYw5EQhMA",
    "outputId": "2a9a21aa-6acd-450c-e3cb-1dd908a2ef0a"
   },
   "outputs": [
    {
     "name": "stdout",
     "output_type": "stream",
     "text": [
      "Acc 26.72 \t AccHead 52.08 \t AccTail 1.36\n"
     ]
    }
   ],
   "source": [
    "## \n",
    "SAVE_DIR = 'logs/LWS/CIFAR100/step-0.01' \n",
    "model = ResNet18(num_classes)\n",
    "model.load_state_dict(torch.load(\n",
    "    osp.join(SAVE_DIR, 'ep100.pth')\n",
    ")['model'])\n",
    "model = model.cuda()\n",
    "topk_acc, head_acc, tail_acc = compute_accuracy(test_loader, model)\n",
    "\n",
    "print('Acc {:.2f} \\t AccHead {:.2f} \\t AccTail {:.2f}'.format(topk_acc[0], head_acc[0], tail_acc[0]))"
   ]
  },
  {
   "cell_type": "markdown",
   "id": "5ea900a0",
   "metadata": {},
   "source": [
    "이건 CIFAR100에서 경향성을 알기 위해 epoch200까지 돌린 결과이다. "
   ]
  },
  {
   "cell_type": "code",
   "execution_count": 30,
   "id": "c08UHDMoQm3j",
   "metadata": {
    "id": "c08UHDMoQm3j"
   },
   "outputs": [
    {
     "name": "stdout",
     "output_type": "stream",
     "text": [
      "Acc 40.31 \t AccHead 50.72 \t AccTail 29.90\n"
     ]
    }
   ],
   "source": [
    "## \n",
    "SAVE_DIR = 'logs/LWS/CIFAR100/exp-0.1' \n",
    "model = ResNet18(num_classes)\n",
    "model.load_state_dict(torch.load(\n",
    "    osp.join(SAVE_DIR, 'ep200.pth')\n",
    ")['model'])\n",
    "model = model.cuda()\n",
    "topk_acc, head_acc, tail_acc = compute_accuracy(test_loader, model)\n",
    "\n",
    "print('Acc {:.2f} \\t AccHead {:.2f} \\t AccTail {:.2f}'.format(topk_acc[0], head_acc[0], tail_acc[0]))"
   ]
  },
  {
   "cell_type": "markdown",
   "id": "058c3185",
   "metadata": {},
   "source": [
    "실행 시간을 위한 코드"
   ]
  },
  {
   "cell_type": "code",
   "execution_count": 13,
   "id": "41b4d580",
   "metadata": {},
   "outputs": [
    {
     "name": "stdout",
     "output_type": "stream",
     "text": [
      "Epoch: [001] \t Loss 4.2546 \t Acc 10.83 \t AccHead 13.18 \t AccTail 3.25\n",
      "Epoch: [002] \t Loss 3.7929 \t Acc 13.75 \t AccHead 16.25 \t AccTail 5.63\n",
      "Epoch: [003] \t Loss 3.5781 \t Acc 14.10 \t AccHead 17.06 \t AccTail 4.55\n",
      "Epoch: [004] \t Loss 3.4303 \t Acc 17.73 \t AccHead 20.13 \t AccTail 9.96\n",
      "Epoch: [005] \t Loss 3.2726 \t Acc 20.34 \t AccHead 22.47 \t AccTail 13.42\n",
      "Epoch: [006] \t Loss 3.1339 \t Acc 23.45 \t AccHead 26.96 \t AccTail 12.12\n",
      "Epoch: [007] \t Loss 3.0044 \t Acc 24.17 \t AccHead 28.09 \t AccTail 11.47\n",
      "Epoch: [008] \t Loss 2.8942 \t Acc 23.91 \t AccHead 27.96 \t AccTail 10.82\n",
      "Epoch: [009] \t Loss 2.7981 \t Acc 24.43 \t AccHead 28.36 \t AccTail 11.69\n",
      "Epoch: [010] \t Loss 2.6817 \t Acc 28.26 \t AccHead 31.77 \t AccTail 16.88\n",
      "Epoch: [011] \t Loss 2.5773 \t Acc 27.85 \t AccHead 31.44 \t AccTail 16.23\n",
      "Epoch: [012] \t Loss 2.4892 \t Acc 29.18 \t AccHead 32.37 \t AccTail 18.83\n",
      "Epoch: [013] \t Loss 2.3992 \t Acc 31.89 \t AccHead 35.12 \t AccTail 21.43\n",
      "Epoch: [014] \t Loss 2.2948 \t Acc 34.34 \t AccHead 38.93 \t AccTail 19.48\n",
      "Epoch: [015] \t Loss 2.2330 \t Acc 33.62 \t AccHead 37.93 \t AccTail 19.70\n",
      "Epoch: [016] \t Loss 2.1422 \t Acc 34.18 \t AccHead 37.86 \t AccTail 22.29\n",
      "Epoch: [017] \t Loss 2.1018 \t Acc 35.67 \t AccHead 39.33 \t AccTail 23.81\n",
      "Epoch: [018] \t Loss 2.0295 \t Acc 34.49 \t AccHead 37.93 \t AccTail 23.38\n",
      "Epoch: [019] \t Loss 1.9408 \t Acc 36.08 \t AccHead 38.19 \t AccTail 29.22\n",
      "Epoch: [020] \t Loss 1.8747 \t Acc 37.05 \t AccHead 40.54 \t AccTail 25.76\n",
      "Epoch: [021] \t Loss 1.8520 \t Acc 36.84 \t AccHead 41.14 \t AccTail 22.94\n",
      "Epoch: [022] \t Loss 1.7789 \t Acc 36.18 \t AccHead 39.46 \t AccTail 25.54\n",
      "Epoch: [023] \t Loss 1.7136 \t Acc 39.86 \t AccHead 44.01 \t AccTail 26.41\n",
      "Epoch: [024] \t Loss 1.6542 \t Acc 37.10 \t AccHead 40.07 \t AccTail 27.49\n",
      "Epoch: [025] \t Loss 1.6203 \t Acc 36.84 \t AccHead 39.80 \t AccTail 27.27\n",
      "Epoch: [026] \t Loss 1.5509 \t Acc 38.27 \t AccHead 41.07 \t AccTail 29.22\n",
      "Epoch: [027] \t Loss 1.4908 \t Acc 36.59 \t AccHead 39.73 \t AccTail 26.41\n",
      "Epoch: [028] \t Loss 1.4327 \t Acc 36.89 \t AccHead 40.87 \t AccTail 24.03\n",
      "Epoch: [029] \t Loss 1.3976 \t Acc 34.85 \t AccHead 38.13 \t AccTail 24.24\n",
      "Epoch: [030] \t Loss 1.3723 \t Acc 36.79 \t AccHead 39.46 \t AccTail 28.14\n",
      "Epoch: [031] \t Loss 1.3048 \t Acc 38.58 \t AccHead 43.08 \t AccTail 24.03\n",
      "Epoch: [032] \t Loss 1.2800 \t Acc 38.32 \t AccHead 41.47 \t AccTail 28.14\n",
      "Epoch: [033] \t Loss 1.2126 \t Acc 39.55 \t AccHead 43.75 \t AccTail 25.97\n",
      "Epoch: [034] \t Loss 1.1635 \t Acc 38.68 \t AccHead 42.14 \t AccTail 27.49\n",
      "Epoch: [035] \t Loss 1.1529 \t Acc 39.50 \t AccHead 43.28 \t AccTail 27.27\n",
      "Epoch: [036] \t Loss 1.0880 \t Acc 37.92 \t AccHead 41.81 \t AccTail 25.32\n",
      "Epoch: [037] \t Loss 1.0505 \t Acc 36.59 \t AccHead 40.13 \t AccTail 25.11\n",
      "Epoch: [038] \t Loss 1.0219 \t Acc 39.40 \t AccHead 43.75 \t AccTail 25.32\n",
      "Epoch: [039] \t Loss 0.9815 \t Acc 36.54 \t AccHead 40.47 \t AccTail 23.81\n",
      "Epoch: [040] \t Loss 0.9252 \t Acc 38.78 \t AccHead 42.27 \t AccTail 27.49\n",
      "Epoch: [041] \t Loss 0.9296 \t Acc 38.58 \t AccHead 41.67 \t AccTail 28.57\n",
      "Epoch: [042] \t Loss 0.9191 \t Acc 36.79 \t AccHead 40.20 \t AccTail 25.76\n",
      "Epoch: [043] \t Loss 0.8462 \t Acc 38.27 \t AccHead 42.07 \t AccTail 25.97\n",
      "Epoch: [044] \t Loss 0.8184 \t Acc 39.65 \t AccHead 43.88 \t AccTail 25.97\n",
      "Epoch: [045] \t Loss 0.7894 \t Acc 36.89 \t AccHead 40.13 \t AccTail 26.41\n",
      "Epoch: [046] \t Loss 0.7906 \t Acc 36.18 \t AccHead 39.80 \t AccTail 24.46\n",
      "Epoch: [047] \t Loss 0.7545 \t Acc 37.10 \t AccHead 40.47 \t AccTail 26.19\n",
      "Epoch: [048] \t Loss 0.7247 \t Acc 38.07 \t AccHead 41.67 \t AccTail 26.41\n",
      "Epoch: [049] \t Loss 0.7303 \t Acc 38.38 \t AccHead 41.61 \t AccTail 27.92\n",
      "Epoch: [050] \t Loss 0.7087 \t Acc 37.51 \t AccHead 40.13 \t AccTail 29.00\n",
      "Epoch: [051] \t Loss 0.6614 \t Acc 38.68 \t AccHead 42.94 \t AccTail 24.89\n",
      "Epoch: [052] \t Loss 0.6620 \t Acc 39.09 \t AccHead 41.54 \t AccTail 31.17\n",
      "Epoch: [053] \t Loss 0.6552 \t Acc 38.53 \t AccHead 42.94 \t AccTail 24.24\n",
      "Epoch: [054] \t Loss 0.6308 \t Acc 38.68 \t AccHead 42.94 \t AccTail 24.89\n",
      "Epoch: [055] \t Loss 0.5961 \t Acc 38.89 \t AccHead 42.01 \t AccTail 28.79\n",
      "Epoch: [056] \t Loss 0.5912 \t Acc 38.22 \t AccHead 41.67 \t AccTail 27.06\n",
      "Epoch: [057] \t Loss 0.6148 \t Acc 38.07 \t AccHead 41.00 \t AccTail 28.57\n",
      "Epoch: [058] \t Loss 0.5864 \t Acc 38.48 \t AccHead 41.27 \t AccTail 29.44\n",
      "Epoch: [059] \t Loss 0.5642 \t Acc 36.69 \t AccHead 39.87 \t AccTail 26.41\n",
      "Epoch: [060] \t Loss 0.5309 \t Acc 39.40 \t AccHead 42.74 \t AccTail 28.57\n",
      "Epoch: [061] \t Loss 0.5447 \t Acc 38.89 \t AccHead 42.21 \t AccTail 28.14\n",
      "Epoch: [062] \t Loss 0.5258 \t Acc 38.32 \t AccHead 41.81 \t AccTail 27.06\n",
      "Epoch: [063] \t Loss 0.5075 \t Acc 39.81 \t AccHead 43.68 \t AccTail 27.27\n",
      "Epoch: [064] \t Loss 0.4991 \t Acc 37.71 \t AccHead 41.47 \t AccTail 25.54\n",
      "Epoch: [065] \t Loss 0.5386 \t Acc 37.71 \t AccHead 40.94 \t AccTail 27.27\n",
      "Epoch: [066] \t Loss 0.4582 \t Acc 38.27 \t AccHead 42.01 \t AccTail 26.19\n",
      "Epoch: [067] \t Loss 0.5016 \t Acc 37.40 \t AccHead 41.27 \t AccTail 24.89\n",
      "Epoch: [068] \t Loss 0.4829 \t Acc 40.01 \t AccHead 43.68 \t AccTail 28.14\n",
      "Epoch: [069] \t Loss 0.4825 \t Acc 36.13 \t AccHead 40.47 \t AccTail 22.08\n",
      "Epoch: [070] \t Loss 0.4771 \t Acc 37.35 \t AccHead 40.40 \t AccTail 27.49\n",
      "Epoch: [071] \t Loss 0.4476 \t Acc 38.17 \t AccHead 41.54 \t AccTail 27.27\n",
      "Epoch: [072] \t Loss 0.4845 \t Acc 39.14 \t AccHead 42.81 \t AccTail 27.27\n",
      "Epoch: [073] \t Loss 0.4796 \t Acc 36.64 \t AccHead 40.13 \t AccTail 25.32\n",
      "Epoch: [074] \t Loss 0.4064 \t Acc 38.53 \t AccHead 41.81 \t AccTail 27.92\n",
      "Epoch: [075] \t Loss 0.4317 \t Acc 36.43 \t AccHead 39.13 \t AccTail 27.71\n",
      "Epoch: [076] \t Loss 0.4595 \t Acc 36.94 \t AccHead 41.14 \t AccTail 23.38\n",
      "Epoch: [077] \t Loss 0.4406 \t Acc 37.71 \t AccHead 41.27 \t AccTail 26.19\n",
      "Epoch: [078] \t Loss 0.4082 \t Acc 37.97 \t AccHead 41.94 \t AccTail 25.11\n",
      "Epoch: [079] \t Loss 0.4329 \t Acc 38.73 \t AccHead 42.81 \t AccTail 25.54\n",
      "Epoch: [080] \t Loss 0.4095 \t Acc 38.43 \t AccHead 42.21 \t AccTail 26.19\n",
      "Epoch: [081] \t Loss 0.4152 \t Acc 38.02 \t AccHead 41.61 \t AccTail 26.41\n",
      "Epoch: [082] \t Loss 0.4204 \t Acc 37.92 \t AccHead 42.01 \t AccTail 24.68\n",
      "Epoch: [083] \t Loss 0.3962 \t Acc 39.45 \t AccHead 42.21 \t AccTail 30.52\n",
      "Epoch: [084] \t Loss 0.4074 \t Acc 37.61 \t AccHead 41.54 \t AccTail 24.89\n",
      "Epoch: [085] \t Loss 0.4220 \t Acc 38.94 \t AccHead 41.54 \t AccTail 30.52\n",
      "Epoch: [086] \t Loss 0.4259 \t Acc 36.59 \t AccHead 39.87 \t AccTail 25.97\n",
      "Epoch: [087] \t Loss 0.4046 \t Acc 37.86 \t AccHead 42.27 \t AccTail 23.59\n",
      "Epoch: [088] \t Loss 0.3856 \t Acc 38.99 \t AccHead 43.14 \t AccTail 25.54\n",
      "Epoch: [089] \t Loss 0.3917 \t Acc 38.83 \t AccHead 42.07 \t AccTail 28.35\n",
      "Epoch: [090] \t Loss 0.4125 \t Acc 38.68 \t AccHead 42.07 \t AccTail 27.71\n",
      "Epoch: [091] \t Loss 0.3667 \t Acc 37.76 \t AccHead 41.27 \t AccTail 26.41\n",
      "Epoch: [092] \t Loss 0.3901 \t Acc 37.97 \t AccHead 41.20 \t AccTail 27.49\n",
      "Epoch: [093] \t Loss 0.4103 \t Acc 36.18 \t AccHead 39.33 \t AccTail 25.97\n",
      "Epoch: [094] \t Loss 0.3838 \t Acc 36.84 \t AccHead 39.67 \t AccTail 27.71\n",
      "Epoch: [095] \t Loss 0.3923 \t Acc 38.32 \t AccHead 42.54 \t AccTail 24.68\n",
      "Epoch: [096] \t Loss 0.3895 \t Acc 37.56 \t AccHead 41.20 \t AccTail 25.76\n",
      "Epoch: [097] \t Loss 0.3731 \t Acc 39.75 \t AccHead 43.88 \t AccTail 26.41\n",
      "Epoch: [098] \t Loss 0.3843 \t Acc 38.48 \t AccHead 42.47 \t AccTail 25.54\n",
      "Epoch: [099] \t Loss 0.3604 \t Acc 38.32 \t AccHead 42.68 \t AccTail 24.24\n",
      "Epoch: [100] \t Loss 0.3761 \t Acc 38.83 \t AccHead 42.81 \t AccTail 25.97\n",
      "1165.8546266555786\n"
     ]
    }
   ],
   "source": [
    "import time \n",
    "\n",
    "train_start_time = time.time()\n",
    "\n",
    "for epoch in range(EPOCHS):\n",
    "    loss_history = []\n",
    "    model.train()\n",
    "    for batch_index, data in enumerate(train_loader):\n",
    "        image, target = data\n",
    "        image, target = image.cuda(), target.cuda()\n",
    "\n",
    "        pred = model(image)\n",
    "        loss = criterion(pred, target)\n",
    "\n",
    "        optimizer.zero_grad()\n",
    "        loss.backward()\n",
    "        optimizer.step()\n",
    "\n",
    "        loss_history.append(loss.item())\n",
    "\n",
    "    topk_acc, head_acc, tail_acc = compute_accuracy(val_loader, model)\n",
    "    loss_mean = np.mean(loss_history)\n",
    "    scheduler.step()\n",
    "\n",
    "    print('Epoch: [{:03d}] \\t Loss {:.4f} \\t Acc {:.2f} \\t AccHead {:.2f} \\t AccTail {:.2f}'.format(epoch+1, loss_mean, topk_acc[0], head_acc[0], tail_acc[0]))\n",
    "\n",
    "train_end_time = time.time()\n",
    "\n",
    "print(train_end_time-train_start_time)"
   ]
  },
  {
   "cell_type": "code",
   "execution_count": 14,
   "id": "a4889326",
   "metadata": {},
   "outputs": [
    {
     "name": "stdout",
     "output_type": "stream",
     "text": [
      "Acc 34.27 \t AccHead 43.88 \t AccTail 24.66\n",
      "4.967448949813843\n"
     ]
    }
   ],
   "source": [
    "train_start_time = time.time()\n",
    "\n",
    "topk_acc, head_acc, tail_acc = compute_accuracy(test_loader, model)\n",
    "\n",
    "print('Acc {:.2f} \\t AccHead {:.2f} \\t AccTail {:.2f}'.format(topk_acc[0], head_acc[0], tail_acc[0]))\n",
    "\n",
    "train_end_time = time.time()\n",
    "\n",
    "print(train_end_time-train_start_time)"
   ]
  },
  {
   "cell_type": "code",
   "execution_count": null,
   "id": "df5ddc63",
   "metadata": {},
   "outputs": [],
   "source": []
  }
 ],
 "metadata": {
  "accelerator": "GPU",
  "colab": {
   "collapsed_sections": [],
   "name": "DLLAB_project_tau.ipynb",
   "provenance": []
  },
  "gpuClass": "standard",
  "kernelspec": {
   "display_name": "gpu",
   "language": "python",
   "name": "deep"
  },
  "language_info": {
   "codemirror_mode": {
    "name": "ipython",
    "version": 3
   },
   "file_extension": ".py",
   "mimetype": "text/x-python",
   "name": "python",
   "nbconvert_exporter": "python",
   "pygments_lexer": "ipython3",
   "version": "3.8.12"
  }
 },
 "nbformat": 4,
 "nbformat_minor": 5
}
